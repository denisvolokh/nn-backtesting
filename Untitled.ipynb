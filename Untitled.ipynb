{
 "cells": [
  {
   "cell_type": "code",
   "execution_count": 1,
   "metadata": {
    "collapsed": true
   },
   "outputs": [],
   "source": [
    "import csv\n",
    "from collections import deque\n",
    "import math\n",
    "from sklearn import preprocessing\n",
    "import numpy as np\n",
    "from sklearn.cross_validation import train_test_split\n",
    "from neupy import algorithms, layers\n",
    "from neupy.functions.errors import rmsle\n"
   ]
  },
  {
   "cell_type": "code",
   "execution_count": 4,
   "metadata": {
    "collapsed": true
   },
   "outputs": [],
   "source": [
    "class ExpMovingAverage():\n",
    "\n",
    "    def __init__(self, period):\n",
    "\n",
    "        self.period = period\n",
    "        self.stream = deque()\n",
    "        self.multiplier = 2.0 / float((period + 1))\n",
    "        self.prev_ema = None\n",
    "        self.ema = None\n",
    "\n",
    "    #end\n",
    "\n",
    "\n",
    "    def __call__(self, value):\n",
    "\n",
    "        self.stream.append(value)\n",
    "\n",
    "        if len(self.stream) > self.period:\n",
    "            self.stream.popleft()\n",
    "\n",
    "            if not self.prev_ema:\n",
    "\n",
    "                self.prev_ema = sum(self.stream) / len(self.stream)\n",
    "\n",
    "            else:\n",
    "\n",
    "                self.ema = (value - self.prev_ema) * self.multiplier + self.prev_ema\n",
    "                self.prev_ema = self.ema\n",
    "\n",
    "        return self.prev_ema\n",
    "\n",
    "    #end"
   ]
  },
  {
   "cell_type": "code",
   "execution_count": 7,
   "metadata": {
    "collapsed": true
   },
   "outputs": [],
   "source": [
    "ema12 = ExpMovingAverage(period=12)\n",
    "ema26 = ExpMovingAverage(period=26)\n",
    "macd9 = ExpMovingAverage(period=9)\n",
    "data = []\n",
    "\n",
    "features = []\n",
    "targets = []"
   ]
  },
  {
   "cell_type": "code",
   "execution_count": 10,
   "metadata": {
    "collapsed": false
   },
   "outputs": [
    {
     "name": "stdout",
     "output_type": "stream",
     "text": [
      "Loaded data: 3648 rows\n"
     ]
    }
   ],
   "source": [
    "with open(\"data/EURCHF_day.csv\", \"rb\") as f:\n",
    "    reader = csv.reader(f)\n",
    "    for row in reader:\n",
    "        if row[0] != \"<TICKER>\":\n",
    "            data.append([row[1], float(row[3]), float(row[4]), float(row[5]), float(row[6])])\n",
    "\n",
    "print \"Loaded data: {0} rows\".format(len(data))"
   ]
  },
  {
   "cell_type": "code",
   "execution_count": 11,
   "metadata": {
    "collapsed": true
   },
   "outputs": [],
   "source": [
    "for index, item in enumerate(data):\n",
    "    close = item[4]\n",
    "\n",
    "    ema12_value = ema12(close) or close\n",
    "    item.append(round(ema12_value, 4))\n",
    "\n",
    "    ema26_value = ema26(close) or close\n",
    "    item.append(round(ema26_value, 4))\n",
    "\n",
    "    macd9_value = macd9(ema12_value - ema26_value) or close\n",
    "    item.append(round(macd9_value, 4))\n",
    "\n",
    "    features.append([close, ema12_value, ema26_value, macd9_value])\n",
    "\n",
    "    try:\n",
    "        targets.append([data[index + 1][4]])\n",
    "    except:\n",
    "        pass"
   ]
  },
  {
   "cell_type": "code",
   "execution_count": 13,
   "metadata": {
    "collapsed": false
   },
   "outputs": [
    {
     "data": {
      "text/plain": [
       "[['20010103', 1.5201, 1.511, 1.5235, 1.5126, 1.5126, 1.5126, 1.5126],\n",
       " ['20010104', 1.5128, 1.5055, 1.5248, 1.5239, 1.5239, 1.5239, 1.5239],\n",
       " ['20010105', 1.5239, 1.5235, 1.5326, 1.5302, 1.5302, 1.5302, 1.5302],\n",
       " ['20010108', 1.5312, 1.5233, 1.5322, 1.5238, 1.5238, 1.5238, 1.5238],\n",
       " ['20010109', 1.5236, 1.5206, 1.5247, 1.523, 1.523, 1.523, 1.523],\n",
       " ['20010110', 1.5231, 1.5218, 1.5293, 1.526, 1.526, 1.526, 1.526],\n",
       " ['20010111', 1.5261, 1.5249, 1.5365, 1.5353, 1.5353, 1.5353, 1.5353],\n",
       " ['20010112', 1.5352, 1.5339, 1.543, 1.5393, 1.5393, 1.5393, 1.5393],\n",
       " ['20010115', 1.5398, 1.5377, 1.5463, 1.5416, 1.5416, 1.5416, 1.5416],\n",
       " ['20010116', 1.5415, 1.5357, 1.5426, 1.5384, 1.5384, 1.5384, 1.5384]]"
      ]
     },
     "execution_count": 13,
     "metadata": {},
     "output_type": "execute_result"
    }
   ],
   "source": [
    "data[:10]"
   ]
  },
  {
   "cell_type": "code",
   "execution_count": 14,
   "metadata": {
    "collapsed": false
   },
   "outputs": [
    {
     "data": {
      "text/plain": [
       "[[1.5126, 1.5126, 1.5126, 1.5126],\n",
       " [1.5239, 1.5239, 1.5239, 1.5239],\n",
       " [1.5302, 1.5302, 1.5302, 1.5302],\n",
       " [1.5238, 1.5238, 1.5238, 1.5238],\n",
       " [1.523, 1.523, 1.523, 1.523],\n",
       " [1.526, 1.526, 1.526, 1.526],\n",
       " [1.5353, 1.5353, 1.5353, 1.5353],\n",
       " [1.5393, 1.5393, 1.5393, 1.5393],\n",
       " [1.5416, 1.5416, 1.5416, 1.5416],\n",
       " [1.5384, 1.5384, 1.5384, 1.5384]]"
      ]
     },
     "execution_count": 14,
     "metadata": {},
     "output_type": "execute_result"
    }
   ],
   "source": [
    "features[:10]"
   ]
  },
  {
   "cell_type": "code",
   "execution_count": 15,
   "metadata": {
    "collapsed": false
   },
   "outputs": [
    {
     "data": {
      "text/plain": [
       "[[1.5239],\n",
       " [1.5302],\n",
       " [1.5238],\n",
       " [1.523],\n",
       " [1.526],\n",
       " [1.5353],\n",
       " [1.5393],\n",
       " [1.5416],\n",
       " [1.5384],\n",
       " [1.5376]]"
      ]
     },
     "execution_count": 15,
     "metadata": {},
     "output_type": "execute_result"
    }
   ],
   "source": [
    "targets[:10]"
   ]
  },
  {
   "cell_type": "code",
   "execution_count": 17,
   "metadata": {
    "collapsed": false
   },
   "outputs": [],
   "source": [
    "feature_data_scaler = preprocessing.MinMaxScaler()\n",
    "target_data_scaler = preprocessing.MinMaxScaler()\n",
    "\n",
    "features_stded = feature_data_scaler.fit_transform(features)\n",
    "targets_stded = target_data_scaler.fit_transform(targets)"
   ]
  },
  {
   "cell_type": "code",
   "execution_count": 18,
   "metadata": {
    "collapsed": true
   },
   "outputs": [],
   "source": [
    "training_period = 500"
   ]
  },
  {
   "cell_type": "code",
   "execution_count": 20,
   "metadata": {
    "collapsed": false
   },
   "outputs": [
    {
     "name": "stdout",
     "output_type": "stream",
     "text": [
      "\n",
      "\u001b[4m\u001b[1mNetwork structure\u001b[0;0m\u001b[0;0m\n",
      "\n",
      "[\u001b[92mLAYERS\u001b[0m] SigmoidLayer(4) > SigmoidLayer(50) > OutputLayer(1)\n",
      "\n",
      "\u001b[4m\u001b[1mNetwork options\u001b[0;0m\u001b[0;0m\n",
      "\n",
      "Verbose:\n",
      "[\u001b[92mOPTION\u001b[0m] verbose = True\n",
      "\n",
      "BaseNetwork:\n",
      "[\u001b[90mOPTION\u001b[0m] error = mse\n",
      "[\u001b[92mOPTION\u001b[0m] show_epoch = 100\n",
      "[\u001b[90mOPTION\u001b[0m] shuffle_data = False\n",
      "[\u001b[90mOPTION\u001b[0m] step = 0.1\n",
      "[\u001b[90mOPTION\u001b[0m] train_end_signal = None\n",
      "[\u001b[90mOPTION\u001b[0m] train_epoch_end_signal = None\n",
      "[\u001b[90mOPTION\u001b[0m] use_bias = True\n",
      "\n",
      "Backpropagation:\n",
      "[\u001b[92mOPTION\u001b[0m] optimizations = ['LinearSearch']\n",
      "\n",
      "ConjugateGradient:\n",
      "[\u001b[90mOPTION\u001b[0m] update_function = fletcher_reeves\n",
      "\n",
      "LinearSearch:\n",
      "[\u001b[92mOPTION\u001b[0m] search_method = golden\n",
      "[\u001b[90mOPTION\u001b[0m] tol = 0.3\n",
      "\n",
      "\n",
      "\u001b[4m\u001b[1mStart train\u001b[0;0m\u001b[0;0m\n",
      "\n",
      "[\u001b[92mTRAIN\u001b[0m] Train data size: 425\n",
      "[\u001b[92mTRAIN\u001b[0m] Validation data size: 75\n",
      "[\u001b[92mTRAIN\u001b[0m] Total epochs: 300\n",
      "\n",
      "\u001b[1mEpoch 1\u001b[0;0m\n",
      "  \u001b[92m*\u001b[0m Train error:  0.279871564117\n",
      "  \u001b[92m*\u001b[0m Validation error: 0.00289988406088\n",
      "  \u001b[92m*\u001b[0m Epoch time: 0.01764 sec\n",
      "\u001b[1mEpoch 100\u001b[0;0m\n",
      "  \u001b[92m*\u001b[0m Train error:  2.91714517294e-05\n",
      "  \u001b[92m*\u001b[0m Validation error: 2.39010083864e-05\n",
      "  \u001b[92m*\u001b[0m Epoch time: 0.01055 sec\n",
      "\u001b[1mEpoch 200\u001b[0;0m\n",
      "  \u001b[92m*\u001b[0m Train error:  2.81628460921e-05\n",
      "  \u001b[92m*\u001b[0m Validation error: 2.45064155179e-05\n",
      "  \u001b[92m*\u001b[0m Epoch time: 0.0101 sec\n",
      "\u001b[1mEpoch 300\u001b[0;0m\n",
      "  \u001b[92m*\u001b[0m Train error:  2.78208537445e-05\n",
      "  \u001b[92m*\u001b[0m Validation error: 2.33273107313e-05\n",
      "  \u001b[92m*\u001b[0m Epoch time: 0.01131 sec\n",
      "[\u001b[92mTRAIN\u001b[0m] End train\n",
      "75 75\n"
     ]
    },
    {
     "ename": "ValueError",
     "evalue": "non-broadcastable output operand with shape (75,1) doesn't match the broadcast shape (75,4)",
     "output_type": "error",
     "traceback": [
      "\u001b[0;31m---------------------------------------------------------------------------\u001b[0m",
      "\u001b[0;31mValueError\u001b[0m                                Traceback (most recent call last)",
      "\u001b[0;32m<ipython-input-20-fb6823ce25a9>\u001b[0m in \u001b[0;36m<module>\u001b[0;34m()\u001b[0m\n\u001b[1;32m     23\u001b[0m \u001b[0;32mprint\u001b[0m \u001b[0mlen\u001b[0m\u001b[0;34m(\u001b[0m\u001b[0my_test\u001b[0m\u001b[0;34m)\u001b[0m\u001b[0;34m,\u001b[0m \u001b[0mlen\u001b[0m\u001b[0;34m(\u001b[0m\u001b[0my_predict\u001b[0m\u001b[0;34m)\u001b[0m\u001b[0;34m\u001b[0m\u001b[0m\n\u001b[1;32m     24\u001b[0m \u001b[0;34m\u001b[0m\u001b[0m\n\u001b[0;32m---> 25\u001b[0;31m \u001b[0mtest_normalized\u001b[0m \u001b[0;34m=\u001b[0m \u001b[0mfeature_data_scaler\u001b[0m\u001b[0;34m.\u001b[0m\u001b[0minverse_transform\u001b[0m\u001b[0;34m(\u001b[0m\u001b[0my_test\u001b[0m\u001b[0;34m)\u001b[0m\u001b[0;34m\u001b[0m\u001b[0m\n\u001b[0m\u001b[1;32m     26\u001b[0m \u001b[0mpredicted_normalized\u001b[0m \u001b[0;34m=\u001b[0m \u001b[0mtarget_data_scaler\u001b[0m\u001b[0;34m.\u001b[0m\u001b[0minverse_transform\u001b[0m\u001b[0;34m(\u001b[0m\u001b[0my_predict\u001b[0m\u001b[0;34m)\u001b[0m\u001b[0;34m\u001b[0m\u001b[0m\n\u001b[1;32m     27\u001b[0m \u001b[0;34m\u001b[0m\u001b[0m\n",
      "\u001b[0;32m/Library/Python/2.7/site-packages/sklearn/preprocessing/data.pyc\u001b[0m in \u001b[0;36minverse_transform\u001b[0;34m(self, X)\u001b[0m\n\u001b[1;32m    377\u001b[0m             \u001b[0mwarnings\u001b[0m\u001b[0;34m.\u001b[0m\u001b[0mwarn\u001b[0m\u001b[0;34m(\u001b[0m\u001b[0mDEPRECATION_MSG_1D\u001b[0m\u001b[0;34m,\u001b[0m \u001b[0mDeprecationWarning\u001b[0m\u001b[0;34m)\u001b[0m\u001b[0;34m\u001b[0m\u001b[0m\n\u001b[1;32m    378\u001b[0m \u001b[0;34m\u001b[0m\u001b[0m\n\u001b[0;32m--> 379\u001b[0;31m         \u001b[0mX\u001b[0m \u001b[0;34m-=\u001b[0m \u001b[0mself\u001b[0m\u001b[0;34m.\u001b[0m\u001b[0mmin_\u001b[0m\u001b[0;34m\u001b[0m\u001b[0m\n\u001b[0m\u001b[1;32m    380\u001b[0m         \u001b[0mX\u001b[0m \u001b[0;34m/=\u001b[0m \u001b[0mself\u001b[0m\u001b[0;34m.\u001b[0m\u001b[0mscale_\u001b[0m\u001b[0;34m\u001b[0m\u001b[0m\n\u001b[1;32m    381\u001b[0m         \u001b[0;32mreturn\u001b[0m \u001b[0mX\u001b[0m\u001b[0;34m\u001b[0m\u001b[0m\n",
      "\u001b[0;31mValueError\u001b[0m: non-broadcastable output operand with shape (75,1) doesn't match the broadcast shape (75,4)"
     ]
    }
   ],
   "source": [
    "x_train, x_test, y_train, y_test = train_test_split(features_stded[:training_period],\n",
    "                                                    targets_stded[:training_period],\n",
    "                                                    train_size=0.85)\n",
    "\n",
    "\n",
    "\n",
    "cgnet = algorithms.ConjugateGradient(\n",
    "    connection=[\n",
    "        layers.SigmoidLayer(4),\n",
    "        layers.SigmoidLayer(50),\n",
    "        layers.OutputLayer(1),\n",
    "    ],\n",
    "    search_method='golden',\n",
    "    show_epoch=100,\n",
    "    verbose=True,\n",
    "    optimizations=[algorithms.LinearSearch],\n",
    ")\n",
    "\n",
    "cgnet.train(x_train, y_train, x_test, y_test, epochs=300)\n",
    "\n",
    "y_predict = cgnet.predict(x_test).round(5)\n",
    "\n",
    "print len(y_test), len(y_predict)\n",
    "\n",
    "test_normalized = feature_data_scaler.inverse_transform(y_test)\n",
    "predicted_normalized = target_data_scaler.inverse_transform(y_predict)\n",
    "\n",
    "error = rmsle(feature_data_scaler.inverse_transform(y_test),\n",
    "              target_data_scaler.inverse_transform(y_predict))\n",
    "\n",
    "print \"Error on initial training: {0}\".format(error)"
   ]
  },
  {
   "cell_type": "code",
   "execution_count": null,
   "metadata": {
    "collapsed": true
   },
   "outputs": [],
   "source": []
  }
 ],
 "metadata": {
  "kernelspec": {
   "display_name": "Python 2",
   "language": "python",
   "name": "python2"
  },
  "language_info": {
   "codemirror_mode": {
    "name": "ipython",
    "version": 2
   },
   "file_extension": ".py",
   "mimetype": "text/x-python",
   "name": "python",
   "nbconvert_exporter": "python",
   "pygments_lexer": "ipython2",
   "version": "2.7.6"
  }
 },
 "nbformat": 4,
 "nbformat_minor": 0
}
